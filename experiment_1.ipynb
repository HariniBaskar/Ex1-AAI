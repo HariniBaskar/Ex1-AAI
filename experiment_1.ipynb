{
  "nbformat": 4,
  "nbformat_minor": 0,
  "metadata": {
    "colab": {
      "provenance": []
    },
    "kernelspec": {
      "name": "python3",
      "display_name": "Python 3"
    },
    "language_info": {
      "name": "python"
    }
  },
  "cells": [
    {
      "cell_type": "code",
      "source": [
        "pip install pybbn"
      ],
      "metadata": {
        "colab": {
          "base_uri": "https://localhost:8080/"
        },
        "id": "U6numk43_cKu",
        "outputId": "46679721-5a7c-4901-98bc-ecc0553eacd9"
      },
      "execution_count": 2,
      "outputs": [
        {
          "output_type": "stream",
          "name": "stdout",
          "text": [
            "Requirement already satisfied: pybbn in /usr/local/lib/python3.10/dist-packages (3.2.3)\n",
            "Requirement already satisfied: numpy in /usr/local/lib/python3.10/dist-packages (from pybbn) (1.25.2)\n",
            "Requirement already satisfied: scipy in /usr/local/lib/python3.10/dist-packages (from pybbn) (1.11.4)\n",
            "Requirement already satisfied: networkx in /usr/local/lib/python3.10/dist-packages (from pybbn) (3.2.1)\n",
            "Requirement already satisfied: pandas in /usr/local/lib/python3.10/dist-packages (from pybbn) (1.5.3)\n",
            "Requirement already satisfied: python-dateutil>=2.8.1 in /usr/local/lib/python3.10/dist-packages (from pandas->pybbn) (2.8.2)\n",
            "Requirement already satisfied: pytz>=2020.1 in /usr/local/lib/python3.10/dist-packages (from pandas->pybbn) (2023.4)\n",
            "Requirement already satisfied: six>=1.5 in /usr/local/lib/python3.10/dist-packages (from python-dateutil>=2.8.1->pandas->pybbn) (1.16.0)\n"
          ]
        }
      ]
    },
    {
      "cell_type": "code",
      "execution_count": 3,
      "metadata": {
        "id": "EZ7E-f7XNAXW"
      },
      "outputs": [],
      "source": [
        "# Import required libraries\n",
        "import networkx as nx\n",
        "import pandas as pd\n",
        "import matplotlib.pyplot as plt\n",
        "from pybbn.graph.dag import Bbn\n",
        "from pybbn.graph.dag import Edge,EdgeType\n",
        "from pybbn.graph.jointree import EvidenceBuilder\n",
        "from pybbn.graph.node import BbnNode\n",
        "from pybbn.graph.variable import Variable\n",
        "from pybbn.pptc.inferencecontroller import InferenceController\n",
        "pd.options.display.max_columns=50\n"
      ]
    },
    {
      "cell_type": "code",
      "source": [
        "# Read the dataset\n",
        "df=pd.read_csv('weatherAUS.csv',encoding='utf-8')"
      ],
      "metadata": {
        "id": "AcZ5N2uyovQ0"
      },
      "execution_count": 4,
      "outputs": []
    },
    {
      "cell_type": "code",
      "source": [
        "# Remove row which contain output(RainTomorrow) NA\n",
        "df=df[pd.isnull(df['RainTomorrow'])==False]"
      ],
      "metadata": {
        "id": "WcK5phXvPOFR"
      },
      "execution_count": 5,
      "outputs": []
    },
    {
      "cell_type": "code",
      "source": [
        "# Filling missing values\n",
        "df=df.fillna(df.mean())"
      ],
      "metadata": {
        "id": "i7RAeW57PRiu",
        "outputId": "72fa2f41-deee-4bd6-d1da-f3efc6e263ad",
        "colab": {
          "base_uri": "https://localhost:8080/"
        }
      },
      "execution_count": 6,
      "outputs": [
        {
          "output_type": "stream",
          "name": "stderr",
          "text": [
            "<ipython-input-6-b6fbab0d6ac4>:2: FutureWarning: The default value of numeric_only in DataFrame.mean is deprecated. In a future version, it will default to False. In addition, specifying 'numeric_only=None' is deprecated. Select only valid columns or specify the value of numeric_only to silence this warning.\n",
            "  df=df.fillna(df.mean())\n"
          ]
        }
      ]
    },
    {
      "cell_type": "code",
      "source": [
        "# Creating bands for variable\n",
        "df['WindGustSpeedCat']=df['WindGustSpeed'].apply(lambda x: '0.<=40'   if x<=40 else '1.40-50' if 40<x<=50 else '2.>50')\n",
        "df['Humidity9amCat']=df['Humidity9am'].apply(lambda x: '1.>60' if x>60 else '0.<=60')\n",
        "df['Humidity3pmCat']=df['Humidity3pm'].apply(lambda x: '1.>60' if x>60 else '0.<=60')\n",
        "print(df)"
      ],
      "metadata": {
        "id": "l0K98PQIPUEm",
        "outputId": "cbae3454-f4f4-425f-8242-dc334556dcab",
        "colab": {
          "base_uri": "https://localhost:8080/"
        }
      },
      "execution_count": 7,
      "outputs": [
        {
          "output_type": "stream",
          "name": "stdout",
          "text": [
            "             Date  Location  MinTemp  MaxTemp  Rainfall  Evaporation  \\\n",
            "0      2008-12-01    Albury     13.4     22.9       0.6     5.022863   \n",
            "1      2008-12-02    Albury      7.4     25.1       0.0     5.022863   \n",
            "2      2008-12-03    Albury     12.9     25.7       0.0     5.022863   \n",
            "3      2008-12-04    Albury      9.2     28.0       0.0     5.022863   \n",
            "4      2008-12-05    Albury     17.5     32.3       1.0     5.022863   \n",
            "...           ...       ...      ...      ...       ...          ...   \n",
            "86872  2016-08-02  Brisbane     12.6     23.8       0.0     4.000000   \n",
            "86873  2016-08-03  Brisbane     13.8     19.3       8.6     2.000000   \n",
            "86874  2016-08-04  Brisbane     11.7     20.8       0.8     6.800000   \n",
            "86875  2016-08-05  Brisbane     11.6     20.9       0.2     4.000000   \n",
            "86876  2016-08-06  Brisbane     10.9     22.4       0.0     3.800000   \n",
            "\n",
            "        Sunshine WindGustDir  WindGustSpeed WindDir9am WindDir3pm  \\\n",
            "0       7.233802           W      44.000000          W        WNW   \n",
            "1       7.233802         WNW      44.000000        NNW        WSW   \n",
            "2       7.233802         WSW      46.000000          W        WSW   \n",
            "3       7.233802          NE      24.000000         SE          E   \n",
            "4       7.233802           W      41.000000        ENE         NW   \n",
            "...          ...         ...            ...        ...        ...   \n",
            "86872   2.300000         NNW      22.000000        SSE         NW   \n",
            "86873  10.200000         NaN      39.669308          W        WNW   \n",
            "86874   4.400000         WSW      41.000000         SW          S   \n",
            "86875   9.100000         SSW      30.000000        SSW         SE   \n",
            "86876   9.600000           E      20.000000         SW        SSE   \n",
            "\n",
            "       WindSpeed9am  WindSpeed3pm  Humidity9am  Humidity3pm  Pressure9am  \\\n",
            "0              20.0          24.0         71.0         22.0       1007.7   \n",
            "1               4.0          22.0         44.0         25.0       1010.6   \n",
            "2              19.0          26.0         38.0         30.0       1007.6   \n",
            "3              11.0           9.0         45.0         16.0       1017.6   \n",
            "4               7.0          20.0         82.0         33.0       1010.8   \n",
            "...             ...           ...          ...          ...          ...   \n",
            "86872           2.0           6.0         72.0         63.0       1015.0   \n",
            "86873           7.0          22.0         67.0         47.0       1009.8   \n",
            "86874          11.0          13.0         64.0         54.0       1014.3   \n",
            "86875           9.0          11.0         59.0         42.0       1024.8   \n",
            "86876           6.0           6.0         70.0         49.0       1025.7   \n",
            "\n",
            "       Pressure3pm  Cloud9am  Cloud3pm  Temp9am  Temp3pm RainToday  \\\n",
            "0           1007.1  8.000000  4.730806     16.9     21.8        No   \n",
            "1           1007.8  4.663393  4.730806     17.2     24.3        No   \n",
            "2           1008.7  4.663393  2.000000     21.0     23.2        No   \n",
            "3           1012.8  4.663393  4.730806     18.1     26.5        No   \n",
            "4           1006.0  7.000000  8.000000     17.8     29.7        No   \n",
            "...            ...       ...       ...      ...      ...       ...   \n",
            "86872       1010.5  7.000000  7.000000     16.6     22.3        No   \n",
            "86873       1007.4  5.000000  2.000000     16.2     17.4       Yes   \n",
            "86874       1016.4  7.000000  7.000000     17.5     18.8        No   \n",
            "86875       1022.8  1.000000  3.000000     16.7     20.4        No   \n",
            "86876       1023.1  4.000000  2.000000     15.3     22.0        No   \n",
            "\n",
            "      RainTomorrow WindGustSpeedCat Humidity9amCat Humidity3pmCat  \n",
            "0               No          1.40-50          1.>60         0.<=60  \n",
            "1               No          1.40-50         0.<=60         0.<=60  \n",
            "2               No          1.40-50         0.<=60         0.<=60  \n",
            "3               No           0.<=40         0.<=60         0.<=60  \n",
            "4               No          1.40-50          1.>60         0.<=60  \n",
            "...            ...              ...            ...            ...  \n",
            "86872          Yes           0.<=40          1.>60          1.>60  \n",
            "86873           No           0.<=40          1.>60         0.<=60  \n",
            "86874           No          1.40-50          1.>60         0.<=60  \n",
            "86875           No           0.<=40         0.<=60         0.<=60  \n",
            "86876           No           0.<=40          1.>60         0.<=60  \n",
            "\n",
            "[84537 rows x 26 columns]\n"
          ]
        }
      ]
    },
    {
      "cell_type": "code",
      "source": [
        "# Function to calculate probabilities\n",
        "def probs(data, child, parent1=None, parent2=None):\n",
        "    if parent1==None:\n",
        "        # Calculate probabilities\n",
        "        prob=pd.crosstab(data[child], 'Empty', margins=False, normalize='columns').sort_index().to_numpy().reshape(-1).tolist()\n",
        "    elif parent1!=None:\n",
        "            # Check if child node has 1 parent or 2 parents\n",
        "            if parent2==None:\n",
        "                # Caclucate probabilities\n",
        "                prob=pd.crosstab(data[parent1],data[child], margins=False, normalize='index').sort_index().to_numpy().reshape(-1).tolist()\n",
        "            else:\n",
        "                # Caclucate probabilities\n",
        "                prob=pd.crosstab([data[parent1],data[parent2]],data[child], margins=False, normalize='index').sort_index().to_numpy().reshape(-1).tolist()\n",
        "    else: print(\"Error in Probability Frequency Calculations\")\n",
        "    return prob"
      ],
      "metadata": {
        "id": "QB9GEh1FPWz_"
      },
      "execution_count": 8,
      "outputs": []
    },
    {
      "cell_type": "code",
      "source": [
        "# Creating BBN network\n",
        "H9am = BbnNode(Variable(0, 'H9am', ['<=60', '>60']), probs(df, child='Humidity9amCat'))\n",
        "H3pm = BbnNode(Variable(1, 'H3pm', ['<=60', '>60']), probs(df, child='Humidity3pmCat', parent1='Humidity9amCat'))\n",
        "W = BbnNode(Variable(2, 'W', ['<=40', '40-50', '>50']), probs(df, child='WindGustSpeedCat'))\n",
        "RT = BbnNode(Variable(3, 'RT', ['No', 'Yes']), probs(df, child='RainTomorrow', parent1='Humidity3pmCat', parent2='WindGustSpeedCat'))\n",
        "\n",
        "bbn = Bbn() \\\n",
        "    .add_node(H9am) \\\n",
        "    .add_node(H3pm) \\\n",
        "    .add_node(W) \\\n",
        "    .add_node(RT) \\\n",
        "    .add_edge(Edge(H9am, H3pm, EdgeType.DIRECTED)) \\\n",
        "    .add_edge(Edge(H3pm, RT, EdgeType.DIRECTED)) \\\n",
        "    .add_edge(Edge(W, RT, EdgeType.DIRECTED))\n",
        "\n",
        "join_tree = InferenceController.apply(bbn)\n",
        "pos={0: (-1,0), 1: (-1, 0.5), 2: (1, 0), 3:(0,-0.5)}\n",
        "\n",
        "options = {\n",
        "    \"font_size\": 16,\n",
        "    \"node_size\": 4000,\n",
        "    \"node_color\": \"yellow\",\n",
        "    \"edgecolors\": \"green\",\n",
        "    \"edge_color\": \"black\",\n",
        "    \"linewidths\": 5,\n",
        "    \"width\": 5,}\n",
        "\n",
        "n, d = bbn.to_nx_graph()\n",
        "nx.draw(n, with_labels=True, labels=d, pos=pos, **options)\n",
        "\n",
        "ax = plt.gca()\n",
        "ax.margins(0.10)\n",
        "plt.axis(\"off\")\n",
        "plt.show()"
      ],
      "metadata": {
        "id": "PqpmBjIPPZz2",
        "outputId": "e9fd5334-8a2d-4850-ce1d-e911b89598f1",
        "colab": {
          "base_uri": "https://localhost:8080/",
          "height": 516
        }
      },
      "execution_count": 11,
      "outputs": [
        {
          "output_type": "display_data",
          "data": {
            "text/plain": [
              "<Figure size 640x480 with 1 Axes>"
            ],
            "image/png": "[encoded data removed]"
          },
          "metadata": {}
        }
      ]
    }
  ]
}